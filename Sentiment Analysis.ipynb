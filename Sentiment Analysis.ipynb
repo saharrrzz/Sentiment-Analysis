{
 "cells": [
  {
   "cell_type": "code",
   "execution_count": 154,
   "metadata": {},
   "outputs": [],
   "source": [
    "import numpy as np\n",
    "import pandas as pd\n",
    "import seaborn as sns\n",
    "import numpy as np \n",
    "import pandas as pd \n",
    "import matplotlib.pyplot as plt\n",
    "import seaborn as sns\n",
    "from sklearn.feature_extraction.text import CountVectorizer\n",
    "from nltk.tokenize import RegexpTokenizer\n",
    "import re\n",
    "from sklearn.feature_extraction.text import TfidfVectorizer\n",
    "from sklearn.naive_bayes import MultinomialNB\n",
    "from sklearn import metrics\n",
    "from nltk.corpus import stopwords\n",
    "from nltk.stem import PorterStemmer\n",
    "from nltk.stem import LancasterStemmer"
   ]
  },
  {
   "cell_type": "code",
   "execution_count": 155,
   "metadata": {},
   "outputs": [],
   "source": [
    "#Converting Text to CSV\n",
    "def _TxtToCsv(filename):\n",
    "    f = open(filename)\n",
    "    lines = f.readlines()\n",
    "    List = np.empty((len(lines), 2), dtype=np.dtype('U1000'))\n",
    "    j = 0\n",
    "    for i in lines:\n",
    "        i = i.rstrip()\n",
    "        i = i.split(\";\")\n",
    "        List[j][0] = i[0]\n",
    "        List[j][1] = i[1]\n",
    "        j = j + 1\n",
    "    return List"
   ]
  },
  {
   "cell_type": "code",
   "execution_count": 156,
   "metadata": {},
   "outputs": [
    {
     "data": {
      "text/html": [
       "<div>\n",
       "<style scoped>\n",
       "    .dataframe tbody tr th:only-of-type {\n",
       "        vertical-align: middle;\n",
       "    }\n",
       "\n",
       "    .dataframe tbody tr th {\n",
       "        vertical-align: top;\n",
       "    }\n",
       "\n",
       "    .dataframe thead th {\n",
       "        text-align: right;\n",
       "    }\n",
       "</style>\n",
       "<table border=\"1\" class=\"dataframe\">\n",
       "  <thead>\n",
       "    <tr style=\"text-align: right;\">\n",
       "      <th></th>\n",
       "      <th>Text</th>\n",
       "      <th>Sentiment</th>\n",
       "    </tr>\n",
       "  </thead>\n",
       "  <tbody>\n",
       "    <tr>\n",
       "      <td>0</td>\n",
       "      <td>im feeling rather rotten so im not very ambitious right now</td>\n",
       "      <td>sadness</td>\n",
       "    </tr>\n",
       "    <tr>\n",
       "      <td>1</td>\n",
       "      <td>im updating my blog because i feel shitty</td>\n",
       "      <td>sadness</td>\n",
       "    </tr>\n",
       "    <tr>\n",
       "      <td>2</td>\n",
       "      <td>i never make her separate from me because i don t ever want her to feel like i m ashamed with her</td>\n",
       "      <td>sadness</td>\n",
       "    </tr>\n",
       "    <tr>\n",
       "      <td>3</td>\n",
       "      <td>i left with my bouquet of red and yellow tulips under my arm feeling slightly more optimistic than when i arrived</td>\n",
       "      <td>joy</td>\n",
       "    </tr>\n",
       "    <tr>\n",
       "      <td>4</td>\n",
       "      <td>i was feeling a little vain when i did this one</td>\n",
       "      <td>sadness</td>\n",
       "    </tr>\n",
       "    <tr>\n",
       "      <td>...</td>\n",
       "      <td>...</td>\n",
       "      <td>...</td>\n",
       "    </tr>\n",
       "    <tr>\n",
       "      <td>1995</td>\n",
       "      <td>i just keep feeling like someone is being unkind to me and doing me wrong and then all i can think of doing is to get back at them and the people they are close to</td>\n",
       "      <td>anger</td>\n",
       "    </tr>\n",
       "    <tr>\n",
       "      <td>1996</td>\n",
       "      <td>im feeling a little cranky negative after this doctors appointment</td>\n",
       "      <td>anger</td>\n",
       "    </tr>\n",
       "    <tr>\n",
       "      <td>1997</td>\n",
       "      <td>i feel that i am useful to my people and that gives me a great feeling of achievement</td>\n",
       "      <td>joy</td>\n",
       "    </tr>\n",
       "    <tr>\n",
       "      <td>1998</td>\n",
       "      <td>im feeling more comfortable with derby i feel as though i can start to step out my shell</td>\n",
       "      <td>joy</td>\n",
       "    </tr>\n",
       "    <tr>\n",
       "      <td>1999</td>\n",
       "      <td>i feel all weird when i have to meet w people i text but like dont talk face to face w</td>\n",
       "      <td>fear</td>\n",
       "    </tr>\n",
       "  </tbody>\n",
       "</table>\n",
       "<p>2000 rows × 2 columns</p>\n",
       "</div>"
      ],
      "text/plain": [
       "                                                                                                                                                                     Text  \\\n",
       "0     im feeling rather rotten so im not very ambitious right now                                                                                                           \n",
       "1     im updating my blog because i feel shitty                                                                                                                             \n",
       "2     i never make her separate from me because i don t ever want her to feel like i m ashamed with her                                                                     \n",
       "3     i left with my bouquet of red and yellow tulips under my arm feeling slightly more optimistic than when i arrived                                                     \n",
       "4     i was feeling a little vain when i did this one                                                                                                                       \n",
       "...                                               ...                                                                                                                       \n",
       "1995  i just keep feeling like someone is being unkind to me and doing me wrong and then all i can think of doing is to get back at them and the people they are close to   \n",
       "1996  im feeling a little cranky negative after this doctors appointment                                                                                                    \n",
       "1997  i feel that i am useful to my people and that gives me a great feeling of achievement                                                                                 \n",
       "1998  im feeling more comfortable with derby i feel as though i can start to step out my shell                                                                              \n",
       "1999  i feel all weird when i have to meet w people i text but like dont talk face to face w                                                                                \n",
       "\n",
       "     Sentiment  \n",
       "0     sadness   \n",
       "1     sadness   \n",
       "2     sadness   \n",
       "3     joy       \n",
       "4     sadness   \n",
       "...       ...   \n",
       "1995  anger     \n",
       "1996  anger     \n",
       "1997  joy       \n",
       "1998  joy       \n",
       "1999  fear      \n",
       "\n",
       "[2000 rows x 2 columns]"
      ]
     },
     "execution_count": 156,
     "metadata": {},
     "output_type": "execute_result"
    }
   ],
   "source": [
    "trainList = _TxtToCsv('D:\\\\MasterFiles\\\\NLP\\\\Sentiment analysis\\\\train_data.txt')\n",
    "testList = _TxtToCsv('D:\\\\MasterFiles\\\\NLP\\\\Sentiment analysis\\\\test_data.txt')\n",
    "df = pd.DataFrame(data=trainList, columns=[\"Text\" ,\"Sentiment\"])\n",
    "df_Test = pd.DataFrame(data=testList, columns=[\"Text\" ,\"Sentiment\"])\n",
    "df_Test"
   ]
  },
  {
   "cell_type": "code",
   "execution_count": 157,
   "metadata": {},
   "outputs": [
    {
     "name": "stdout",
     "output_type": "stream",
     "text": [
      "joy         5362\n",
      "sadness     4666\n",
      "anger       2159\n",
      "fear        1937\n",
      "love        1304\n",
      "surprise    572 \n",
      "Name: Sentiment, dtype: int64\n"
     ]
    },
    {
     "data": {
      "image/png": "[encoded data removed]",
      "text/plain": [
       "<Figure size 648x432 with 1 Axes>"
      ]
     },
     "metadata": {},
     "output_type": "display_data"
    }
   ],
   "source": [
    "sns.factorplot(x=\"Sentiment\", data=df, kind=\"count\", size=6, aspect=1.5, palette=\"PuBuGn_d\")\n",
    "print(df.Sentiment.value_counts())\n",
    "plt.show();"
   ]
  },
  {
   "cell_type": "code",
   "execution_count": 158,
   "metadata": {},
   "outputs": [],
   "source": [
    "\n",
    "tf=TfidfVectorizer()\n",
    "text_tf= tf.fit_transform(df['Text'])\n",
    "text_tf_Test= tf.transform(df_Test['Text'])"
   ]
  },
  {
   "cell_type": "code",
   "execution_count": 159,
   "metadata": {},
   "outputs": [
    {
     "name": "stdout",
     "output_type": "stream",
     "text": [
      "MultinomialNB Accuracy: 0.6485\n"
     ]
    }
   ],
   "source": [
    "\n",
    "# Model Generation Using Multinomial Naive Bayes\n",
    "clf = MultinomialNB().fit(text_tf, df['Sentiment'])\n",
    "predicted= clf.predict(text_tf_Test)\n",
    "print(\"MultinomialNB Accuracy:\",metrics.accuracy_score(df_Test['Sentiment'], predicted))"
   ]
  },
  {
   "cell_type": "code",
   "execution_count": 160,
   "metadata": {},
   "outputs": [
    {
     "data": {
      "image/png": "[encoded data removed]",
      "text/plain": [
       "<Figure size 432x288 with 1 Axes>"
      ]
     },
     "metadata": {},
     "output_type": "display_data"
    }
   ],
   "source": [
    "plt.scatter(df_Test['Sentiment'], predicted)\n",
    "plt.plot()\n",
    "plt.xlabel('Sentiment')\n",
    "plt.ylabel('predicted Setiment')\n",
    "plt.show()"
   ]
  },
  {
   "cell_type": "code",
   "execution_count": 161,
   "metadata": {},
   "outputs": [],
   "source": [
    "#tokenizer to remove unwanted elements from out data like symbols and numbers\n",
    "token = RegexpTokenizer(r'[a-zA-Z0-9]+')\n",
    "cv = CountVectorizer(lowercase=True,stop_words='english',ngram_range = (1,1),tokenizer = token.tokenize)\n",
    "text_counts= cv.fit_transform(df['Text'])\n",
    "text_counts_Test= cv.transform(df_Test['Text'])"
   ]
  },
  {
   "cell_type": "code",
   "execution_count": 162,
   "metadata": {},
   "outputs": [
    {
     "name": "stdout",
     "output_type": "stream",
     "text": [
      "MultinomialNB Accuracy: 0.7915\n"
     ]
    }
   ],
   "source": [
    "# Model Generation Using Multinomial Naive Bayes\n",
    "clf = MultinomialNB().fit(text_counts, df['Sentiment'])\n",
    "predicted= clf.predict(text_counts_Test)\n",
    "print(\"MultinomialNB Accuracy:\",metrics.accuracy_score(df_Test['Sentiment'], predicted))"
   ]
  },
  {
   "cell_type": "code",
   "execution_count": 163,
   "metadata": {},
   "outputs": [
    {
     "data": {
      "image/png": "[encoded data removed]",
      "text/plain": [
       "<Figure size 432x288 with 1 Axes>"
      ]
     },
     "metadata": {},
     "output_type": "display_data"
    }
   ],
   "source": [
    "plt.scatter(df_Test['Sentiment'], predicted)\n",
    "plt.plot()\n",
    "plt.xlabel('Sentiment')\n",
    "plt.ylabel('predicted Setiment')\n",
    "plt.show()"
   ]
  },
  {
   "cell_type": "code",
   "execution_count": 164,
   "metadata": {},
   "outputs": [
    {
     "data": {
      "text/plain": [
       "array(['sadness'], dtype='<U8')"
      ]
     },
     "execution_count": 164,
     "metadata": {},
     "output_type": "execute_result"
    }
   ],
   "source": [
    "TestSentence = [\"I feel like I am going to die\"]\n",
    "counts= cv.transform(TestSentence)\n",
    "predicted= clf.predict(counts)\n",
    "predicted"
   ]
  },
  {
   "cell_type": "code",
   "execution_count": 165,
   "metadata": {},
   "outputs": [
    {
     "data": {
      "text/plain": [
       "array(['joy'], dtype='<U8')"
      ]
     },
     "execution_count": 165,
     "metadata": {},
     "output_type": "execute_result"
    }
   ],
   "source": [
    "TestSentence = [\"Today is a day to do awsome works\"]\n",
    "counts= cv.transform(TestSentence)\n",
    "predicted= clf.predict(counts)\n",
    "predicted"
   ]
  },
  {
   "cell_type": "markdown",
   "metadata": {},
   "source": [
    "# preprocessing code ( didn't use)"
   ]
  },
  {
   "cell_type": "code",
   "execution_count": null,
   "metadata": {},
   "outputs": [],
   "source": [
    "# PreProcessing\n",
    "df.loc[:,\"Text\"] = df.Text.apply(lambda x : str.lower(x))\n",
    "df_Test.loc[:,\"Text\"] = df.Text.apply(lambda x : str.lower(x))\n",
    "\n",
    "# remove punctuation and numbers\n",
    "df.loc[:,\"Text\"] = df.Text.apply(lambda x : \" \".join(re.findall('[\\w]+',x)))\n",
    "df_Test.loc[:,\"Text\"] = df.Text.apply(lambda x : \" \".join(re.findall('[\\w]+',x)))\n",
    "\n",
    "#RemoveStopwords\n",
    "stop_words=set(stopwords.words(\"english\"))\n",
    "\n",
    "def remove_stopWords(s):\n",
    "    s = ' '.join(word for word in s.split() if word not in stop_words)\n",
    "    return s\n",
    "\n",
    "df.loc[:,\"Text\"] = df.Text.apply(lambda x: remove_stopWords(x))\n",
    "df_Test.loc[:,\"Text\"] = df.Text.apply(lambda x: remove_stopWords(x))\n",
    "\n",
    "\n",
    "porter = PorterStemmer()\n",
    "lancaster=LancasterStemmer()\n",
    "# Use English stemmer.\n",
    "stemmer = SnowballStemmer(\"english\")\n",
    "df['Text'] = df.Text.apply(lambda x: porter.stem(x)) # Stem every word.\n",
    "df['Text'] = df.Text.apply(lambda x: lancaster.stem(x))\n",
    "#df = df.drop(columns=['unstemmed']) # Get rid of the unstemmed column.\n",
    "\n",
    "df"
   ]
  }
 ],
 "metadata": {
  "kernelspec": {
   "display_name": "Python 3",
   "language": "python",
   "name": "python3"
  },
  "language_info": {
   "codemirror_mode": {
    "name": "ipython",
    "version": 3
   },
   "file_extension": ".py",
   "mimetype": "text/x-python",
   "name": "python",
   "nbconvert_exporter": "python",
   "pygments_lexer": "ipython3",
   "version": "3.7.4"
  }
 },
 "nbformat": 4,
 "nbformat_minor": 2
}
